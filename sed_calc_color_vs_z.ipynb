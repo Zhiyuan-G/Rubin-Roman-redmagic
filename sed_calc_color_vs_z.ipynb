{
 "cells": [
  {
   "cell_type": "code",
   "execution_count": 2,
   "id": "ec16cd5d-38a3-4458-8b64-55f827f8dcd6",
   "metadata": {},
   "outputs": [],
   "source": [
    "import h5py\n",
    "import numpy as np\n",
    "import gzip\n",
    "import matplotlib.pyplot as plt\n",
    "import os\n",
    "from lsst.sims.photUtils import BandpassDict, Sed, Bandpass\n",
    "from lsst.sims.photUtils import cache_LSST_seds, getImsimFluxNorm\n",
    "from lsst.utils import getPackageDir\n",
    "\n",
    "_galaxy_sed_dir = os.path.join(getPackageDir('sims_sed_library'))\n",
    "\n",
    "sed_look_dir = \"/global/projecta/projectdirs/lsst/groups/SSim/DC2/cosmoDC2_v1.1.4/sedLookup/\"\n",
    "lookupfile = os.listdir(sed_look_dir)"
   ]
  },
  {
   "cell_type": "code",
   "execution_count": 2,
   "id": "2ffe5f09-8403-4776-a510-6863c56a7d62",
   "metadata": {},
   "outputs": [
    {
     "data": {
      "text/plain": [
       "'/cvmfs/sw.lsst.eu/linux-x86_64/lsst_sims/sims_2_13_1/stack/miniconda3-4.5.4-fcd27eb/Linux64/sims_sed_library/2017.01.24'"
      ]
     },
     "execution_count": 2,
     "metadata": {},
     "output_type": "execute_result"
    }
   ],
   "source": [
    "import os\n",
    "os.environ['SIMS_SED_LIBRARY_DIR']"
   ]
  },
  {
   "cell_type": "code",
   "execution_count": 3,
   "id": "02e8b2c7-773e-4f3c-84d1-c36662be64fb",
   "metadata": {},
   "outputs": [
    {
     "name": "stdout",
     "output_type": "stream",
     "text": [
      "/global/cscratch1/sd/zg64/Rubin-Roman-Redmagic/gcr-catalogs-master\n"
     ]
    }
   ],
   "source": [
    "cd gcr-catalogs-master/"
   ]
  },
  {
   "cell_type": "code",
   "execution_count": 4,
   "id": "0ec31fe8-4b8c-4d86-b7d9-aa273bcd52e0",
   "metadata": {},
   "outputs": [
    {
     "name": "stdout",
     "output_type": "stream",
     "text": [
      "57 /global/projecta/projectdirs/lsst/groups/SSim/DC2/cosmoDC2_v1.1.4/sedLookup/sed_fit_10572.h5\n"
     ]
    }
   ],
   "source": [
    "file_s_e = list()\n",
    "for i,f in enumerate(lookupfile):\n",
    "    try:\n",
    "        look_file = sed_look_dir + f\n",
    "        hf = h5py.File(look_file, 'r')\n",
    "        n = hf.get('galaxy_id')\n",
    "        n = np.array(n)\n",
    "        file_s_e.append([n[0],n[-1]])\n",
    "    except:\n",
    "        print(i,look_file)"
   ]
  },
  {
   "cell_type": "code",
   "execution_count": 5,
   "id": "727325bc-5055-4c82-a764-64a3e032722c",
   "metadata": {},
   "outputs": [],
   "source": [
    "def find_h5_file (gal_id = 1250443219):\n",
    "\n",
    "    for i,f in enumerate(file_s_e):\n",
    "        if gal_id > f[0] and gal_id < f[1]:\n",
    "            if i > 57:\n",
    "                which_h5file = i + 1\n",
    "            else:\n",
    "                which_h5file = i\n",
    "            print('SED LookupFile: ', lookupfile[which_h5file])\n",
    "    return(which_h5file)\n",
    "\n",
    "\n",
    "def find_target_sed(gal_id = 1250443219, plot = True):\n",
    "    \n",
    "    h5f_id = find_h5_file(gal_id=gal_id)\n",
    "    look_file = sed_look_dir + lookupfile[h5f_id]\n",
    "    hf = h5py.File(look_file, 'r')\n",
    "    galaxy_id = hf['galaxy_id'][:]\n",
    "    bulge_sed = hf['bulge_sed'][:]\n",
    "    disk_sed = hf['disk_sed'][:]\n",
    "    sed_names = hf['sed_names'][:]\n",
    "\n",
    "    idx = np.where(galaxy_id == gal_id)[0][0]\n",
    "\n",
    "    target_bulge = sed_names[bulge_sed[idx]]\n",
    "    target_bulge_sed = target_bulge.decode(\"utf-8\") \n",
    "    \n",
    "    target_disk = sed_names[disk_sed[idx]]\n",
    "    target_disk_sed = target_disk.decode(\"utf-8\") \n",
    "    bulge_spec = Sed()\n",
    "    bulge_spec.readSED_flambda(os.path.join(_galaxy_sed_dir, target_bulge_sed))\n",
    "    disk_spec = Sed()\n",
    "    disk_spec.readSED_flambda(os.path.join(_galaxy_sed_dir, target_disk_sed))\n",
    "    print('SED template (bulge): ',target_bulge_sed)\n",
    "    print('SED template (disk): ',target_disk_sed)\n",
    "    if plot == True:\n",
    "        fig,ax = plt.subplots(1,1,figsize = (8,6))\n",
    "        ax2 = ax.twinx()\n",
    "\n",
    "\n",
    "        m = bulge_spec.wavelen < 2000\n",
    "        ax.plot(bulge_spec.wavelen[m],bulge_spec.flambda[m],color = 'c', label = 'bulge')\n",
    "        ax.legend(loc = 'upper right',fontsize = 14)\n",
    "        ax.set_ylabel('bulge',fontsize = 16)\n",
    "\n",
    "        ax2.plot(disk_spec.wavelen[m],disk_spec.flambda[m],color = 'm',label = 'disk') \n",
    "        ax2.legend(loc = 'upper left',fontsize = 14)\n",
    "        ax2.set_ylabel('disk',fontsize = 16)\n",
    "        ax.set_xlabel('Wavelength [nm]',fontsize = 16)\n",
    "        \n",
    "    return(hf,idx,bulge_spec,disk_spec)\n"
   ]
  },
  {
   "cell_type": "code",
   "execution_count": 6,
   "id": "fd1c6a5c-edd3-40d4-b5fa-f5dc175ce29a",
   "metadata": {},
   "outputs": [],
   "source": [
    "lsst_bp_dict,dummy_bp_dict = BandpassDict.loadBandpassesFromFiles()"
   ]
  },
  {
   "cell_type": "code",
   "execution_count": 7,
   "id": "0372e7c5-fb5e-4cc4-ac44-647afdcc1fbd",
   "metadata": {},
   "outputs": [],
   "source": [
    "tot_bp_dict = BandpassDict.loadTotalBandpassesFromFiles()"
   ]
  },
  {
   "cell_type": "code",
   "execution_count": 8,
   "id": "d10767cc-7221-48b7-9871-d151f099d430",
   "metadata": {},
   "outputs": [],
   "source": [
    "def calc_colors (gal_id):\n",
    "    hfile,ID,bulge_s,disk_s = find_target_sed(gal_id=gal_id, plot = False)\n",
    "    disk_magnorm = hfile['disk_magnorm'][0][ID]\n",
    "    bulge_magnorm = hfile['bulge_magnorm'][0][ID]\n",
    "    print('redshift: ',hfile['redshift'][ID])\n",
    "\n",
    "    fnorm = getImsimFluxNorm(disk_s, disk_magnorm)\n",
    "    disk_s.multiplyFluxNorm(fnorm)\n",
    "    ax, bx = disk_s.setupCCM_ab()\n",
    "    disk_s.addDust(ax, bx, A_v=hfile['disk_av'][ID], R_v=hfile['disk_rv'][ID])\n",
    "    disk_s.redshiftSED(hfile['redshift'][ID], dimming=True)\n",
    "    \n",
    "    fnorm = getImsimFluxNorm(bulge_s, bulge_magnorm)\n",
    "    bulge_s.multiplyFluxNorm(fnorm)\n",
    "    ax, bx = bulge_s.setupCCM_ab()\n",
    "    bulge_s.addDust(ax, bx, A_v=hfile['bulge_av'][ID], R_v=hfile['bulge_rv'][ID])\n",
    "\n",
    "\n",
    "    # Run for various redshift and calculate colors\n",
    "    spec_f = Sed(wavelen =  bulge_s.wavelen , flambda = bulge_s.flambda+disk_s.flambda)\n",
    "    redshift =  np.arange(0,1.2,0.01)\n",
    "    color = list()\n",
    "    for z in redshift:\n",
    "        spec_f = Sed(wavelen =  bulge_s.wavelen , flambda = bulge_s.flambda+disk_s.flambda)\n",
    "        spec_f.redshiftSED(z,dimming = True)\n",
    "        maglist = lsst_bp_dict.magListForSed(spec_f)\n",
    "        color.append(maglist[:-1]-maglist[1:])\n",
    "    np.save('data/single_gal_cali_u_%i'%gal_id,np.array(color))\n",
    "    #return(maglist)"
   ]
  },
  {
   "cell_type": "code",
   "execution_count": 24,
   "id": "f15f00ff-7536-4f6c-8741-6b1078886f6a",
   "metadata": {},
   "outputs": [
    {
     "name": "stdout",
     "output_type": "stream",
     "text": [
      "SED LookupFile:  sed_fit_8918.h5\n",
      "SED template (bulge):  galaxySED/Exp.62E09.002Z.spec.gz\n",
      "SED template (disk):  galaxySED/Exp.40E08.1Z.spec.gz\n",
      "redshift:  0.8651232884602025\n",
      "1.8934072585825107e-06\n"
     ]
    }
   ],
   "source": [
    "calc_colors(gal_id=2126755324)"
   ]
  },
  {
   "cell_type": "code",
   "execution_count": 37,
   "id": "5d2c9109-ac23-4e0b-aa39-e811c4a60a40",
   "metadata": {},
   "outputs": [
    {
     "data": {
      "text/plain": [
       "array([30.98431795, 30.565566  , 29.97217014, 29.40831066, 28.45706037,\n",
       "       27.98494256])"
      ]
     },
     "execution_count": 37,
     "metadata": {},
     "output_type": "execute_result"
    }
   ],
   "source": [
    "MAGLIST"
   ]
  },
  {
   "cell_type": "code",
   "execution_count": 38,
   "id": "025877bd-826e-4022-b63d-abe178f1868e",
   "metadata": {},
   "outputs": [
    {
     "name": "stdout",
     "output_type": "stream",
     "text": [
      "SED LookupFile:  sed_fit_10070.h5\n",
      "SED template (bulge):  galaxySED/Inst.40E09.002Z.spec.gz\n",
      "SED template (disk):  galaxySED/Burst.16E09.002Z.spec.gz\n"
     ]
    },
    {
     "data": {
      "image/png": "[encoded data removed]",
      "text/plain": [
       "<Figure size 576x432 with 2 Axes>"
      ]
     },
     "metadata": {
      "needs_background": "light"
     },
     "output_type": "display_data"
    }
   ],
   "source": [
    "file,IDx,b_s,d_s = find_target_sed(gal_id=9688343588)"
   ]
  },
  {
   "cell_type": "code",
   "execution_count": 13,
   "id": "d89eb958-397d-4523-a1b9-8528c99466b5",
   "metadata": {},
   "outputs": [
    {
     "data": {
      "text/plain": [
       "9438381284"
      ]
     },
     "execution_count": 13,
     "metadata": {},
     "output_type": "execute_result"
    }
   ],
   "source": [
    "g_id"
   ]
  },
  {
   "cell_type": "code",
   "execution_count": 28,
   "id": "3260a629-fc41-4ecb-a2a4-e4fb778f03c1",
   "metadata": {},
   "outputs": [
    {
     "data": {
      "text/plain": [
       "(29.072571165669306, 28.782764654444097)"
      ]
     },
     "execution_count": 28,
     "metadata": {},
     "output_type": "execute_result"
    }
   ],
   "source": [
    "file['disk_magnorm'][0][IDx],file['bulge_magnorm'][0][IDx]"
   ]
  },
  {
   "cell_type": "code",
   "execution_count": 14,
   "id": "17f8cf7e-b14a-453f-bb68-3d254f8d9897",
   "metadata": {},
   "outputs": [
    {
     "name": "stdout",
     "output_type": "stream",
     "text": [
      "SED LookupFile:  sed_fit_9425.h5\n",
      "SED template (bulge):  galaxySED/Inst.32E09.04Z.spec.gz\n",
      "SED template (disk):  galaxySED/Exp.40E09.02Z.spec.gz\n",
      "redshift:  0.6815274298511032\n",
      "--------------------------\n",
      "SED LookupFile:  sed_fit_9813.h5\n",
      "SED template (bulge):  galaxySED/Burst.62E09.04Z.spec.gz\n",
      "SED template (disk):  galaxySED/Burst.62E09.02Z.spec.gz\n",
      "redshift:  0.6373819698913723\n",
      "--------------------------\n",
      "SED LookupFile:  sed_fit_9043.h5\n",
      "SED template (bulge):  galaxySED/Burst.62E09.04Z.spec.gz\n",
      "SED template (disk):  galaxySED/Const.12E10.02Z.spec.gz\n",
      "redshift:  0.4708143717763775\n",
      "--------------------------\n",
      "SED LookupFile:  sed_fit_10201.h5\n",
      "SED template (bulge):  galaxySED/Burst.62E09.04Z.spec.gz\n",
      "SED template (disk):  galaxySED/Exp.62E09.04Z.spec.gz\n",
      "redshift:  0.5933312677881073\n",
      "--------------------------\n",
      "SED LookupFile:  sed_fit_9690.h5\n",
      "SED template (bulge):  galaxySED/Exp.62E09.002Z.spec.gz\n",
      "SED template (disk):  galaxySED/Exp.40E08.1Z.spec.gz\n",
      "redshift:  0.8477502395073966\n",
      "--------------------------\n",
      "SED LookupFile:  sed_fit_9946.h5\n",
      "SED template (bulge):  galaxySED/Inst.10E10.04Z.spec.gz\n",
      "SED template (disk):  galaxySED/Burst.10E10.1Z.spec.gz\n",
      "redshift:  0.3171094051284098\n",
      "--------------------------\n",
      "SED LookupFile:  sed_fit_9937.h5\n",
      "SED template (bulge):  galaxySED/Burst.62E09.04Z.spec.gz\n",
      "SED template (disk):  galaxySED/Exp.80E09.1Z.spec.gz\n",
      "redshift:  0.5215405302862912\n",
      "--------------------------\n",
      "SED LookupFile:  sed_fit_9302.h5\n",
      "SED template (bulge):  galaxySED/Exp.80E09.02Z.spec.gz\n",
      "SED template (disk):  galaxySED/Exp.80E08.02Z.spec.gz\n",
      "redshift:  0.48993204989938866\n",
      "--------------------------\n",
      "SED LookupFile:  sed_fit_9562.h5\n",
      "SED template (bulge):  galaxySED/Burst.62E09.04Z.spec.gz\n",
      "SED template (disk):  galaxySED/Exp.62E09.02Z.spec.gz\n",
      "redshift:  0.5630237025653217\n",
      "--------------------------\n",
      "SED LookupFile:  sed_fit_9170.h5\n",
      "SED template (bulge):  galaxySED/Inst.80E09.02Z.spec.gz\n",
      "SED template (disk):  galaxySED/Exp.40E09.04Z.spec.gz\n",
      "redshift:  0.5076349835689011\n",
      "--------------------------\n",
      "SED LookupFile:  sed_fit_8793.h5\n",
      "SED template (bulge):  galaxySED/Inst.62E09.02Z.spec.gz\n",
      "SED template (disk):  galaxySED/Const.20E09.02Z.spec.gz\n",
      "redshift:  0.6116621865817027\n",
      "--------------------------\n",
      "SED LookupFile:  sed_fit_9300.h5\n",
      "SED template (bulge):  galaxySED/Burst.62E09.04Z.spec.gz\n",
      "SED template (disk):  galaxySED/Exp.62E09.1Z.spec.gz\n",
      "redshift:  0.6618356778266559\n",
      "--------------------------\n",
      "SED LookupFile:  sed_fit_10450.h5\n",
      "SED template (bulge):  galaxySED/Burst.62E09.04Z.spec.gz\n",
      "SED template (disk):  galaxySED/Exp.62E09.1Z.spec.gz\n",
      "redshift:  0.5546442898394446\n",
      "--------------------------\n",
      "SED LookupFile:  sed_fit_9047.h5\n",
      "SED template (bulge):  galaxySED/Burst.62E09.02Z.spec.gz\n",
      "SED template (disk):  galaxySED/Inst.80E08.1Z.spec.gz\n",
      "redshift:  0.7529280792260467\n",
      "--------------------------\n",
      "SED LookupFile:  sed_fit_8788.h5\n",
      "SED template (bulge):  galaxySED/Burst.80E09.04Z.spec.gz\n",
      "SED template (disk):  galaxySED/Exp.62E09.1Z.spec.gz\n",
      "redshift:  0.3538612787204862\n",
      "--------------------------\n",
      "SED LookupFile:  sed_fit_9430.h5\n",
      "SED template (bulge):  galaxySED/Exp.10E10.02Z.spec.gz\n",
      "SED template (disk):  galaxySED/Burst.32E09.1Z.spec.gz\n",
      "redshift:  0.36422584578342687\n",
      "--------------------------\n",
      "SED LookupFile:  sed_fit_10444.h5\n",
      "SED template (bulge):  galaxySED/Inst.62E09.04Z.spec.gz\n",
      "SED template (disk):  galaxySED/Exp.50E09.1Z.spec.gz\n",
      "redshift:  0.4808287035491816\n",
      "--------------------------\n",
      "SED LookupFile:  sed_fit_8920.h5\n",
      "SED template (bulge):  galaxySED/Exp.62E09.02Z.spec.gz\n",
      "SED template (disk):  galaxySED/Exp.50E09.02Z.spec.gz\n",
      "redshift:  0.7588025408660037\n",
      "--------------------------\n",
      "SED LookupFile:  sed_fit_8913.h5\n",
      "SED template (bulge):  galaxySED/Inst.62E09.04Z.spec.gz\n",
      "SED template (disk):  galaxySED/Exp.25E09.02Z.spec.gz\n",
      "redshift:  0.41191778312421734\n",
      "--------------------------\n",
      "SED LookupFile:  sed_fit_9045.h5\n",
      "SED template (bulge):  galaxySED/Burst.40E09.04Z.spec.gz\n",
      "SED template (disk):  galaxySED/Exp.80E09.02Z.spec.gz\n",
      "redshift:  0.673842200558298\n",
      "--------------------------\n",
      "SED LookupFile:  sed_fit_9559.h5\n",
      "SED template (bulge):  galaxySED/Inst.62E09.04Z.spec.gz\n",
      "SED template (disk):  galaxySED/Exp.80E09.1Z.spec.gz\n",
      "redshift:  0.48183490747513047\n",
      "--------------------------\n",
      "SED LookupFile:  sed_fit_10321.h5\n",
      "SED template (bulge):  galaxySED/Exp.62E09.002Z.spec.gz\n",
      "SED template (disk):  galaxySED/Exp.40E08.1Z.spec.gz\n",
      "redshift:  0.8708429363842607\n",
      "--------------------------\n",
      "SED LookupFile:  sed_fit_10329.h5\n",
      "SED template (bulge):  galaxySED/Burst.62E09.04Z.spec.gz\n",
      "SED template (disk):  galaxySED/Exp.80E09.1Z.spec.gz\n",
      "redshift:  0.6728179561011374\n",
      "--------------------------\n",
      "SED LookupFile:  sed_fit_10067.h5\n",
      "SED template (bulge):  galaxySED/Exp.80E09.1Z.spec.gz\n",
      "SED template (disk):  galaxySED/Const.10E10.002Z.spec.gz\n",
      "redshift:  0.3372290246709877\n",
      "--------------------------\n",
      "SED LookupFile:  sed_fit_9305.h5\n",
      "SED template (bulge):  galaxySED/Inst.62E09.04Z.spec.gz\n",
      "SED template (disk):  galaxySED/Exp.50E09.1Z.spec.gz\n",
      "redshift:  0.35509940315979494\n",
      "--------------------------\n",
      "SED LookupFile:  sed_fit_9169.h5\n",
      "SED template (bulge):  galaxySED/Exp.62E09.04Z.spec.gz\n",
      "SED template (disk):  galaxySED/Exp.12E09.02Z.spec.gz\n",
      "redshift:  0.6299688280249818\n",
      "--------------------------\n",
      "SED LookupFile:  sed_fit_9556.h5\n",
      "SED template (bulge):  galaxySED/Burst.62E09.04Z.spec.gz\n",
      "SED template (disk):  galaxySED/Exp.20E09.02Z.spec.gz\n",
      "redshift:  0.6075043136331522\n",
      "--------------------------\n",
      "SED LookupFile:  sed_fit_10323.h5\n",
      "SED template (bulge):  galaxySED/Exp.80E09.1Z.spec.gz\n",
      "SED template (disk):  galaxySED/Exp.20E09.02Z.spec.gz\n",
      "redshift:  0.32321349193800275\n",
      "--------------------------\n",
      "SED LookupFile:  sed_fit_8789.h5\n",
      "SED template (bulge):  galaxySED/Burst.10E10.02Z.spec.gz\n",
      "SED template (disk):  galaxySED/Exp.80E09.1Z.spec.gz\n",
      "redshift:  0.391155919056436\n",
      "--------------------------\n"
     ]
    }
   ],
   "source": [
    "galaxy_ids = np.array([ 4813367392,  7875754559,  2562878640, 10688135419,  7251541884,\n",
    "        9125114999,  8562957912,  4250372425,  6250534938,  3250450911,\n",
    "        1688140822,  4125882008, 11938019038,  2813663888,  1375142352,\n",
    "        5125197188, 11562875152,  2251155767,  1812742303,  2688381233,\n",
    "        6062886029, 10939224906, 11438359281,  9500145936,  4437646567,\n",
    "        3188247136,  5875651163, 11062617827,  1437690612])\n",
    "for g_id in galaxy_ids:\n",
    "    calc_colors(gal_id = g_id)\n",
    "    print('--------------------------')"
   ]
  },
  {
   "cell_type": "code",
   "execution_count": 28,
   "id": "8bd332ec-f31b-4949-ad19-0935124b736f",
   "metadata": {},
   "outputs": [
    {
     "name": "stdout",
     "output_type": "stream",
     "text": [
      "SED LookupFile:  sed_fit_10446.h5\n",
      "SED template (bulge):  galaxySED/Exp.62E09.04Z.spec.gz\n",
      "SED template (disk):  galaxySED/Exp.50E09.02Z.spec.gz\n",
      "redshift:  0.7471837269088322\n",
      "--------------------------\n",
      "SED LookupFile:  sed_fit_8789.h5\n",
      "SED template (bulge):  galaxySED/Inst.62E09.04Z.spec.gz\n",
      "SED template (disk):  galaxySED/Exp.50E09.1Z.spec.gz\n",
      "redshift:  0.42664270891084843\n",
      "--------------------------\n",
      "SED LookupFile:  sed_fit_10195.h5\n",
      "SED template (bulge):  galaxySED/Burst.62E09.04Z.spec.gz\n",
      "SED template (disk):  galaxySED/Exp.62E09.04Z.spec.gz\n",
      "redshift:  0.6167931873020922\n",
      "--------------------------\n",
      "SED LookupFile:  sed_fit_9430.h5\n",
      "SED template (bulge):  galaxySED/Exp.10E10.02Z.spec.gz\n",
      "SED template (disk):  galaxySED/Exp.64E08.02Z.spec.gz\n",
      "redshift:  0.6452306852060636\n",
      "--------------------------\n",
      "SED LookupFile:  sed_fit_8921.h5\n",
      "SED template (bulge):  galaxySED/Burst.62E09.04Z.spec.gz\n",
      "SED template (disk):  galaxySED/Const.20E09.02Z.spec.gz\n",
      "redshift:  0.5475494988195901\n",
      "--------------------------\n",
      "SED LookupFile:  sed_fit_8918.h5\n",
      "SED template (bulge):  galaxySED/Exp.62E09.002Z.spec.gz\n",
      "SED template (disk):  galaxySED/Exp.40E08.1Z.spec.gz\n",
      "redshift:  0.8651232884602025\n",
      "--------------------------\n",
      "SED LookupFile:  sed_fit_8794.h5\n",
      "SED template (bulge):  galaxySED/Inst.50E09.02Z.spec.gz\n",
      "SED template (disk):  galaxySED/Inst.40E08.04Z.spec.gz\n",
      "redshift:  0.6919320102581994\n",
      "--------------------------\n",
      "SED LookupFile:  sed_fit_10200.h5\n",
      "SED template (bulge):  galaxySED/Exp.80E09.02Z.spec.gz\n",
      "SED template (disk):  galaxySED/Exp.50E09.1Z.spec.gz\n",
      "redshift:  0.5256027529108056\n",
      "--------------------------\n",
      "SED LookupFile:  sed_fit_9939.h5\n",
      "SED template (bulge):  galaxySED/Burst.50E09.02Z.spec.gz\n",
      "SED template (disk):  galaxySED/Exp.62E09.04Z.spec.gz\n",
      "redshift:  0.6372130877602504\n",
      "--------------------------\n",
      "SED LookupFile:  sed_fit_10444.h5\n",
      "SED template (bulge):  galaxySED/Inst.32E09.04Z.spec.gz\n",
      "SED template (disk):  galaxySED/Inst.64E08.04Z.spec.gz\n",
      "redshift:  0.68004769237735\n",
      "--------------------------\n",
      "SED LookupFile:  sed_fit_9557.h5\n",
      "SED template (bulge):  galaxySED/Burst.10E10.04Z.spec.gz\n",
      "SED template (disk):  galaxySED/Exp.62E09.1Z.spec.gz\n",
      "redshift:  0.23872584744206193\n",
      "--------------------------\n",
      "SED LookupFile:  sed_fit_9049.h5\n",
      "SED template (bulge):  galaxySED/Burst.62E09.04Z.spec.gz\n",
      "SED template (disk):  galaxySED/Exp.32E09.04Z.spec.gz\n",
      "redshift:  0.5286616432678428\n",
      "--------------------------\n",
      "SED LookupFile:  sed_fit_9562.h5\n",
      "SED template (bulge):  galaxySED/Burst.62E09.02Z.spec.gz\n",
      "SED template (disk):  galaxySED/Burst.10E09.04Z.spec.gz\n",
      "redshift:  0.6249679874274165\n",
      "--------------------------\n",
      "SED LookupFile:  sed_fit_9818.h5\n",
      "SED template (bulge):  galaxySED/Inst.62E09.04Z.spec.gz\n",
      "SED template (disk):  galaxySED/Exp.40E09.1Z.spec.gz\n",
      "redshift:  0.433572586510625\n",
      "--------------------------\n",
      "SED LookupFile:  sed_fit_10201.h5\n",
      "SED template (bulge):  galaxySED/Burst.80E09.04Z.spec.gz\n",
      "SED template (disk):  galaxySED/Const.12E10.002Z.spec.gz\n",
      "redshift:  0.4368356409996017\n",
      "--------------------------\n",
      "SED LookupFile:  sed_fit_10199.h5\n",
      "SED template (bulge):  galaxySED/Exp.10E10.04Z.spec.gz\n",
      "SED template (disk):  galaxySED/Inst.10E10.1Z.spec.gz\n",
      "redshift:  0.11655894243734766\n",
      "--------------------------\n",
      "SED LookupFile:  sed_fit_8793.h5\n",
      "SED template (bulge):  galaxySED/Inst.80E09.02Z.spec.gz\n",
      "SED template (disk):  galaxySED/Exp.20E09.02Z.spec.gz\n",
      "redshift:  0.45382142799741554\n",
      "--------------------------\n",
      "SED LookupFile:  sed_fit_9178.h5\n",
      "SED template (bulge):  galaxySED/Inst.50E09.02Z.spec.gz\n",
      "SED template (disk):  galaxySED/Exp.50E08.1Z.spec.gz\n",
      "redshift:  0.8230339976878431\n",
      "--------------------------\n",
      "SED LookupFile:  sed_fit_9815.h5\n",
      "SED template (bulge):  galaxySED/Burst.62E09.02Z.spec.gz\n",
      "SED template (disk):  galaxySED/Exp.20E09.0005Z.spec.gz\n",
      "redshift:  0.6164782421172563\n",
      "--------------------------\n",
      "SED LookupFile:  sed_fit_8918.h5\n",
      "SED template (bulge):  galaxySED/Exp.62E09.1Z.spec.gz\n",
      "SED template (disk):  galaxySED/Exp.40E09.02Z.spec.gz\n",
      "redshift:  0.3541141025128094\n",
      "--------------------------\n",
      "SED LookupFile:  sed_fit_9300.h5\n",
      "SED template (bulge):  galaxySED/Burst.12E10.04Z.spec.gz\n",
      "SED template (disk):  galaxySED/Exp.50E09.1Z.spec.gz\n",
      "redshift:  0.09863323877218999\n",
      "--------------------------\n",
      "SED LookupFile:  sed_fit_10327.h5\n",
      "SED template (bulge):  galaxySED/Burst.62E09.04Z.spec.gz\n",
      "SED template (disk):  galaxySED/Exp.62E09.1Z.spec.gz\n",
      "redshift:  0.5925916347140145\n",
      "--------------------------\n",
      "SED LookupFile:  sed_fit_9939.h5\n",
      "SED template (bulge):  galaxySED/Burst.10E10.04Z.spec.gz\n",
      "SED template (disk):  galaxySED/Exp.62E09.1Z.spec.gz\n",
      "redshift:  0.2471123355679643\n",
      "--------------------------\n",
      "SED LookupFile:  sed_fit_9814.h5\n",
      "SED template (bulge):  galaxySED/Burst.62E09.04Z.spec.gz\n",
      "SED template (disk):  galaxySED/Const.20E09.02Z.spec.gz\n",
      "redshift:  0.5403765357256007\n",
      "--------------------------\n",
      "SED LookupFile:  sed_fit_8792.h5\n",
      "SED template (bulge):  galaxySED/Inst.10E10.04Z.spec.gz\n",
      "SED template (disk):  galaxySED/Inst.80E09.1Z.spec.gz\n",
      "redshift:  0.27997605264338277\n",
      "--------------------------\n",
      "SED LookupFile:  sed_fit_9174.h5\n",
      "SED template (bulge):  galaxySED/Exp.80E09.1Z.spec.gz\n",
      "SED template (disk):  galaxySED/Inst.12E10.1Z.spec.gz\n",
      "redshift:  0.2283326828154324\n",
      "--------------------------\n",
      "SED LookupFile:  sed_fit_9300.h5\n",
      "SED template (bulge):  galaxySED/Burst.62E09.04Z.spec.gz\n",
      "SED template (disk):  galaxySED/Exp.25E09.04Z.spec.gz\n",
      "redshift:  0.5489671189407608\n",
      "--------------------------\n",
      "SED LookupFile:  sed_fit_9686.h5\n",
      "SED template (bulge):  galaxySED/Inst.62E09.04Z.spec.gz\n",
      "SED template (disk):  galaxySED/Exp.32E09.04Z.spec.gz\n",
      "redshift:  0.4734665300524967\n",
      "--------------------------\n",
      "SED LookupFile:  sed_fit_9433.h5\n",
      "SED template (bulge):  galaxySED/Inst.62E09.04Z.spec.gz\n",
      "SED template (disk):  galaxySED/Exp.50E09.1Z.spec.gz\n",
      "redshift:  0.36351921362009265\n",
      "--------------------------\n",
      "SED LookupFile:  sed_fit_8921.h5\n",
      "SED template (bulge):  galaxySED/Inst.32E09.04Z.spec.gz\n",
      "SED template (disk):  galaxySED/Inst.64E08.04Z.spec.gz\n",
      "redshift:  0.6831799800089349\n",
      "--------------------------\n"
     ]
    }
   ],
   "source": [
    "galaxy_ids = np.array([11688689226,  1437743580, 10313132699,  5125764534,  2313038358,\n",
    "        2126755324,  1751006703, 10625438576,  8688261743, 11563376129,\n",
    "        5937539934,  2937955908,  6250762091,  8187747632, 10687802491,\n",
    "       10562504698,  1687797050,  3751370138,  8000650616,  2125141689,\n",
    "        4125002175, 11313136616,  8687559910,  7938028488,  1625085001,\n",
    "        3500040160,  4125530380,  7000380189,  5312686130,  2313368417])\n",
    "for g_id in galaxy_ids:\n",
    "    calc_colors(gal_id = g_id)\n",
    "    print('--------------------------')"
   ]
  },
  {
   "cell_type": "code",
   "execution_count": 165,
   "id": "029b4575-25ca-47de-8884-7d816202e1a7",
   "metadata": {},
   "outputs": [
    {
     "name": "stdout",
     "output_type": "stream",
     "text": [
      "SED LookupFile:  sed_fit_8786.h5\n",
      "SED template (bulge):  galaxySED/Inst.62E09.04Z.spec.gz\n",
      "SED template (disk):  galaxySED/Exp.16E09.02Z.spec.gz\n"
     ]
    },
    {
     "data": {
      "image/png": "[encoded data removed]",
      "text/plain": [
       "<Figure size 576x432 with 2 Axes>"
      ]
     },
     "metadata": {
      "needs_background": "light"
     },
     "output_type": "display_data"
    }
   ],
   "source": [
    "galaxy_id=1250374860\n",
    "hfile,ID,bulge_s,disk_s = find_target_sed(gal_id=gal_id)"
   ]
  }
 ],
 "metadata": {
  "kernelspec": {
   "display_name": "desc-sims",
   "language": "python",
   "name": "desc-sims"
  },
  "language_info": {
   "codemirror_mode": {
    "name": "ipython",
    "version": 3
   },
   "file_extension": ".py",
   "mimetype": "text/x-python",
   "name": "python",
   "nbconvert_exporter": "python",
   "pygments_lexer": "ipython3",
   "version": "3.6.6"
  }
 },
 "nbformat": 4,
 "nbformat_minor": 5
}
