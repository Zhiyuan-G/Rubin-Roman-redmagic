{
 "cells": [
  {
   "cell_type": "code",
   "execution_count": 3,
   "id": "ec16cd5d-38a3-4458-8b64-55f827f8dcd6",
   "metadata": {},
   "outputs": [],
   "source": [
    "import h5py\n",
    "import numpy as np\n",
    "import gzip\n",
    "import matplotlib.pyplot as plt\n",
    "import os\n",
    "from lsst.sims.photUtils import BandpassDict, Sed, Bandpass\n",
    "from lsst.sims.photUtils import cache_LSST_seds, getImsimFluxNorm\n",
    "from lsst.utils import getPackageDir\n",
    "\n",
    "_galaxy_sed_dir = os.path.join(getPackageDir('sims_sed_library'))\n",
    "\n",
    "sed_look_dir = \"/global/projecta/projectdirs/lsst/groups/SSim/DC2/cosmoDC2_v1.1.4/sedLookup/\"\n",
    "lookupfile = os.listdir(sed_look_dir)"
   ]
  },
  {
   "cell_type": "code",
   "execution_count": 5,
   "id": "0ec31fe8-4b8c-4d86-b7d9-aa273bcd52e0",
   "metadata": {},
   "outputs": [
    {
     "name": "stdout",
     "output_type": "stream",
     "text": [
      "57 /global/projecta/projectdirs/lsst/groups/SSim/DC2/cosmoDC2_v1.1.4/sedLookup/sed_fit_10572.h5\n"
     ]
    }
   ],
   "source": [
    "file_s_e = list()\n",
    "for i,f in enumerate(lookupfile):\n",
    "    try:\n",
    "        look_file = sed_look_dir + f\n",
    "        hf = h5py.File(look_file, 'r')\n",
    "        n = hf.get('galaxy_id')\n",
    "        n = np.array(n)\n",
    "        file_s_e.append([n[0],n[-1]])\n",
    "    except:\n",
    "        print(i,look_file)"
   ]
  },
  {
   "cell_type": "code",
   "execution_count": 20,
   "id": "727325bc-5055-4c82-a764-64a3e032722c",
   "metadata": {},
   "outputs": [],
   "source": [
    "def find_h5_file (gal_id = 1250443219):\n",
    "\n",
    "    for i,f in enumerate(file_s_e):\n",
    "        if gal_id > f[0] and gal_id < f[1]:\n",
    "            if i > 57:\n",
    "                which_h5file = i + 1\n",
    "            else:\n",
    "                which_h5file = i\n",
    "            print('SED LookupFile: ', lookupfile[which_h5file])\n",
    "    return(which_h5file)\n",
    "\n",
    "\n",
    "def find_target_sed(gal_id = 1250443219):\n",
    "    \n",
    "    h5f_id = find_h5_file(gal_id=gal_id)\n",
    "    look_file = sed_look_dir + lookupfile[h5f_id]\n",
    "    hf = h5py.File(look_file, 'r')\n",
    "    galaxy_id = hf['galaxy_id'][:]\n",
    "    bulge_sed = hf['bulge_sed'][:]\n",
    "    sed_names = hf['sed_names'][:]\n",
    "\n",
    "    idx = np.where(galaxy_id == gal_id)[0][0]\n",
    "\n",
    "    target = sed_names[bulge_sed[idx]]\n",
    "    target_sed = target.decode(\"utf-8\") \n",
    "    print('SED template: ',target_sed)\n",
    "    \n",
    "    base_spec = Sed()\n",
    "    base_spec.readSED_flambda(os.path.join(_galaxy_sed_dir, target_sed))\n",
    "    m = base_spec.wavelen < 1200\n",
    "    plt.plot(base_spec.wavelen[m],base_spec.flambda[m])\n",
    "    \n",
    "    return(target_sed)"
   ]
  },
  {
   "cell_type": "code",
   "execution_count": 21,
   "id": "029b4575-25ca-47de-8884-7d816202e1a7",
   "metadata": {},
   "outputs": [
    {
     "name": "stdout",
     "output_type": "stream",
     "text": [
      "SED LookupFile:  sed_fit_8786.h5\n",
      "SED template:  galaxySED/Inst.62E09.04Z.spec.gz\n"
     ]
    },
    {
     "data": {
      "image/png": "[encoded data removed]",
      "text/plain": [
       "<Figure size 432x288 with 1 Axes>"
      ]
     },
     "metadata": {
      "needs_background": "light"
     },
     "output_type": "display_data"
    }
   ],
   "source": [
    "target_sed = find_target_sed(gal_id=1250443219)"
   ]
  }
 ],
 "metadata": {
  "kernelspec": {
   "display_name": "desc-sims",
   "language": "python",
   "name": "desc-sims"
  },
  "language_info": {
   "codemirror_mode": {
    "name": "ipython",
    "version": 3
   },
   "file_extension": ".py",
   "mimetype": "text/x-python",
   "name": "python",
   "nbconvert_exporter": "python",
   "pygments_lexer": "ipython3",
   "version": "3.6.6"
  }
 },
 "nbformat": 4,
 "nbformat_minor": 5
}
