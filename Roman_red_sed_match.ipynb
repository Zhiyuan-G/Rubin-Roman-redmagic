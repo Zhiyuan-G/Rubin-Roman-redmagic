{
 "cells": [
  {
   "cell_type": "code",
   "execution_count": 3,
   "id": "1501f758-de52-48fe-b897-a1000e4fbb39",
   "metadata": {},
   "outputs": [],
   "source": [
    "import numpy as np\n",
    "import os\n",
    "import matplotlib.pyplot as plt\n",
    "from astropy.io import fits\n",
    "import glob"
   ]
  },
  {
   "cell_type": "code",
   "execution_count": 5,
   "id": "c6248fe3-48cd-4837-9870-c8e0f5f1f426",
   "metadata": {},
   "outputs": [],
   "source": [
    "Roman_output_dir = 'data/dc2_sim_output'\n",
    "Roman_match_files = np.sort(glob.glob(os.path.join(Roman_output_dir,'*.fits')))"
   ]
  },
  {
   "cell_type": "code",
   "execution_count": 6,
   "id": "15e9164b-b340-4b04-8eb7-7be241a623cd",
   "metadata": {},
   "outputs": [
    {
     "data": {
      "text/plain": [
       "array(['data/dc2_sim_output\\\\m_t_match_rd.fits',\n",
       "       'data/dc2_sim_output\\\\m_t_match_rtd.fits'], dtype='<U38')"
      ]
     },
     "execution_count": 6,
     "metadata": {},
     "output_type": "execute_result"
    }
   ],
   "source": [
    "Roman_match_files"
   ]
  },
  {
   "cell_type": "code",
   "execution_count": 8,
   "id": "fea28f80-79f8-42dc-973a-cd1e6a1f6fab",
   "metadata": {},
   "outputs": [],
   "source": [
    "hdu = fits.open(Roman_match_files[0])"
   ]
  },
  {
   "cell_type": "code",
   "execution_count": 10,
   "id": "5fa8402b-a72c-4d22-9dca-205ef6eb93f9",
   "metadata": {},
   "outputs": [
    {
     "data": {
      "text/plain": [
       "XTENSION= 'BINTABLE'           / binary table extension                         \n",
       "BITPIX  =                    8 / 8-bit bytes                                    \n",
       "NAXIS   =                    2 / 2-dimensional binary table                     \n",
       "NAXIS1  =                  250 / width of table in bytes                        \n",
       "NAXIS2  =              9402411 / number of rows in table                        \n",
       "PCOUNT  =                    0 / size of special data area                      \n",
       "GCOUNT  =                    1 / one data group (required keyword)              \n",
       "TFIELDS =                   53 / number of fields in each row                   \n",
       "TTYPE1  = 'number  '           / label for field   1                            \n",
       "TFORM1  = 'J       '           / data format of field: 4-byte INTEGER           \n",
       "TTYPE2  = 'flux_auto'          / label for field   2                            \n",
       "TFORM2  = 'E       '           / data format of field: 4-byte REAL              \n",
       "TTYPE3  = 'fluxerr_auto'       / label for field   3                            \n",
       "TFORM3  = 'E       '           / data format of field: 4-byte REAL              \n",
       "TTYPE4  = 'mag_auto'           / label for field   4                            \n",
       "TFORM4  = 'E       '           / data format of field: 4-byte REAL              \n",
       "TTYPE5  = 'magerr_auto'        / label for field   5                            \n",
       "TFORM5  = 'E       '           / data format of field: 4-byte REAL              \n",
       "TTYPE6  = 'kron_radius'        / label for field   6                            \n",
       "TFORM6  = 'E       '           / data format of field: 4-byte REAL              \n",
       "TTYPE7  = 'background'         / label for field   7                            \n",
       "TFORM7  = 'E       '           / data format of field: 4-byte REAL              \n",
       "TTYPE8  = 'isoareaf_image'     / label for field   8                            \n",
       "TFORM8  = 'J       '           / data format of field: 4-byte INTEGER           \n",
       "TTYPE9  = 'xwin_image'         / label for field   9                            \n",
       "TFORM9  = 'D       '           / data format of field: 8-byte DOUBLE            \n",
       "TTYPE10 = 'ywin_image'         / label for field  10                            \n",
       "TFORM10 = 'D       '           / data format of field: 8-byte DOUBLE            \n",
       "TTYPE11 = 'alphawin_j2000'     / label for field  11                            \n",
       "TFORM11 = 'D       '           / data format of field: 8-byte DOUBLE            \n",
       "TTYPE12 = 'deltawin_j2000'     / label for field  12                            \n",
       "TFORM12 = 'D       '           / data format of field: 8-byte DOUBLE            \n",
       "TTYPE13 = 'x2win_image'        / label for field  13                            \n",
       "TFORM13 = 'D       '           / data format of field: 8-byte DOUBLE            \n",
       "TTYPE14 = 'y2win_image'        / label for field  14                            \n",
       "TFORM14 = 'D       '           / data format of field: 8-byte DOUBLE            \n",
       "TTYPE15 = 'xywin_image'        / label for field  15                            \n",
       "TFORM15 = 'D       '           / data format of field: 8-byte DOUBLE            \n",
       "TTYPE16 = 'x2win_world'        / label for field  16                            \n",
       "TFORM16 = 'D       '           / data format of field: 8-byte DOUBLE            \n",
       "TTYPE17 = 'y2win_world'        / label for field  17                            \n",
       "TFORM17 = 'D       '           / data format of field: 8-byte DOUBLE            \n",
       "TTYPE18 = 'xywin_world'        / label for field  18                            \n",
       "TFORM18 = 'D       '           / data format of field: 8-byte DOUBLE            \n",
       "TTYPE19 = 'awin_world'         / label for field  19                            \n",
       "TFORM19 = 'E       '           / data format of field: 4-byte REAL              \n",
       "TTYPE20 = 'bwin_world'         / label for field  20                            \n",
       "TFORM20 = 'E       '           / data format of field: 4-byte REAL              \n",
       "TTYPE21 = 'thetawin_world'     / label for field  21                            \n",
       "TFORM21 = 'E       '           / data format of field: 4-byte REAL              \n",
       "TTYPE22 = 'mu_threshold'       / label for field  22                            \n",
       "TFORM22 = 'E       '           / data format of field: 4-byte REAL              \n",
       "TTYPE23 = 'mu_max  '           / label for field  23                            \n",
       "TFORM23 = 'E       '           / data format of field: 4-byte REAL              \n",
       "TTYPE24 = 'flags   '           / label for field  24                            \n",
       "TFORM24 = 'I       '           / data format of field: 2-byte INTEGER           \n",
       "TTYPE25 = 'class_star'         / label for field  25                            \n",
       "TFORM25 = 'E       '           / data format of field: 4-byte REAL              \n",
       "TTYPE26 = 'mag_auto_Y106'      / label for field  26                            \n",
       "TFORM26 = 'E       '           / data format of field: 4-byte REAL              \n",
       "TTYPE27 = 'mag_auto_J129'      / label for field  27                            \n",
       "TFORM27 = 'E       '           / data format of field: 4-byte REAL              \n",
       "TTYPE28 = 'mag_auto_H158'      / label for field  28                            \n",
       "TFORM28 = 'E       '           / data format of field: 4-byte REAL              \n",
       "TTYPE29 = 'mag_auto_F184'      / label for field  29                            \n",
       "TFORM29 = 'E       '           / data format of field: 4-byte REAL              \n",
       "TTYPE30 = 'magerr_auto_Y106'   / label for field  30                            \n",
       "TFORM30 = 'E       '           / data format of field: 4-byte REAL              \n",
       "TTYPE31 = 'magerr_auto_J129'   / label for field  31                            \n",
       "TFORM31 = 'E       '           / data format of field: 4-byte REAL              \n",
       "TTYPE32 = 'magerr_auto_H158'   / label for field  32                            \n",
       "TFORM32 = 'E       '           / data format of field: 4-byte REAL              \n",
       "TTYPE33 = 'magerr_auto_F184'   / label for field  33                            \n",
       "TFORM33 = 'E       '           / data format of field: 4-byte REAL              \n",
       "TTYPE34 = 'flux_auto_Y106'     / label for field  34                            \n",
       "TFORM34 = 'E       '           / data format of field: 4-byte REAL              \n",
       "TTYPE35 = 'flux_auto_J129'     / label for field  35                            \n",
       "TFORM35 = 'E       '           / data format of field: 4-byte REAL              \n",
       "TTYPE36 = 'flux_auto_H158'     / label for field  36                            \n",
       "TFORM36 = 'E       '           / data format of field: 4-byte REAL              \n",
       "TTYPE37 = 'flux_auto_F184'     / label for field  37                            \n",
       "TFORM37 = 'E       '           / data format of field: 4-byte REAL              \n",
       "TTYPE38 = 'fluxerr_auto_Y106'  / label for field  38                            \n",
       "TFORM38 = 'E       '           / data format of field: 4-byte REAL              \n",
       "TTYPE39 = 'fluxerr_auto_J129'  / label for field  39                            \n",
       "TFORM39 = 'E       '           / data format of field: 4-byte REAL              \n",
       "TTYPE40 = 'fluxerr_auto_H158'  / label for field  40                            \n",
       "TFORM40 = 'E       '           / data format of field: 4-byte REAL              \n",
       "TTYPE41 = 'fluxerr_auto_F184'  / label for field  41                            \n",
       "TFORM41 = 'E       '           / data format of field: 4-byte REAL              \n",
       "TTYPE42 = 'x2win_world_Y106'   / label for field  42                            \n",
       "TFORM42 = 'E       '           / data format of field: 4-byte REAL              \n",
       "TTYPE43 = 'y2win_world_Y106'   / label for field  43                            \n",
       "TFORM43 = 'E       '           / data format of field: 4-byte REAL              \n",
       "TTYPE44 = 'xywin_world_Y106'   / label for field  44                            \n",
       "TFORM44 = 'E       '           / data format of field: 4-byte REAL              \n",
       "TTYPE45 = 'x2win_world_J129'   / label for field  45                            \n",
       "TFORM45 = 'E       '           / data format of field: 4-byte REAL              \n",
       "TTYPE46 = 'y2win_world_J129'   / label for field  46                            \n",
       "TFORM46 = 'E       '           / data format of field: 4-byte REAL              \n",
       "TTYPE47 = 'xywin_world_J129'   / label for field  47                            \n",
       "TFORM47 = 'E       '           / data format of field: 4-byte REAL              \n",
       "TTYPE48 = 'x2win_world_H158'   / label for field  48                            \n",
       "TFORM48 = 'E       '           / data format of field: 4-byte REAL              \n",
       "TTYPE49 = 'y2win_world_H158'   / label for field  49                            \n",
       "TFORM49 = 'E       '           / data format of field: 4-byte REAL              \n",
       "TTYPE50 = 'xywin_world_H158'   / label for field  50                            \n",
       "TFORM50 = 'E       '           / data format of field: 4-byte REAL              \n",
       "TTYPE51 = 'x2win_world_F184'   / label for field  51                            \n",
       "TFORM51 = 'E       '           / data format of field: 4-byte REAL              \n",
       "TTYPE52 = 'y2win_world_F184'   / label for field  52                            \n",
       "TFORM52 = 'E       '           / data format of field: 4-byte REAL              \n",
       "TTYPE53 = 'xywin_world_F184'   / label for field  53                            \n",
       "TFORM53 = 'E       '           / data format of field: 4-byte REAL              "
      ]
     },
     "execution_count": 10,
     "metadata": {},
     "output_type": "execute_result"
    }
   ],
   "source": [
    "hdu[1].header"
   ]
  },
  {
   "cell_type": "code",
   "execution_count": null,
   "id": "1d622074-2b01-4c00-b903-9e6ca200a91d",
   "metadata": {},
   "outputs": [],
   "source": []
  }
 ],
 "metadata": {
  "kernelspec": {
   "display_name": "Python 3 (ipykernel)",
   "language": "python",
   "name": "python3"
  },
  "language_info": {
   "codemirror_mode": {
    "name": "ipython",
    "version": 3
   },
   "file_extension": ".py",
   "mimetype": "text/x-python",
   "name": "python",
   "nbconvert_exporter": "python",
   "pygments_lexer": "ipython3",
   "version": "3.10.5"
  }
 },
 "nbformat": 4,
 "nbformat_minor": 5
}
