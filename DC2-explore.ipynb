{
 "cells": [
  {
   "cell_type": "code",
   "execution_count": 1,
   "id": "6e79a2f1-dc43-445a-b524-39b60c3a4d29",
   "metadata": {},
   "outputs": [
    {
     "name": "stdout",
     "output_type": "stream",
     "text": [
      "GCRCatalogs = 1.3.5 | GCR = 0.9.2\n"
     ]
    },
    {
     "data": {
      "text/plain": [
       "['buzzard',\n",
       " 'buzzard_high-res',\n",
       " 'cosmoDC2_v1.1.4_image',\n",
       " 'cosmoDC2_v1.1.4_redmagic_v0.8.1_highdens',\n",
       " 'cosmoDC2_v1.1.4_redmagic_v0.8.1_highlum',\n",
       " 'cosmoDC2_v1.1.4_redmapper_v0.8.1',\n",
       " 'cosmoDC2_v1.1.4_small',\n",
       " 'dc2_object_run1.2i',\n",
       " 'dc2_object_run1.2i_all_columns',\n",
       " 'dc2_object_run1.2i_tract4850',\n",
       " 'dc2_object_run1.2i_with_photoz',\n",
       " 'dc2_object_run1.2p',\n",
       " 'dc2_object_run1.2p_all_columns',\n",
       " 'dc2_object_run1.2p_tract4850',\n",
       " 'dc2_object_run2.2i_dr2_wfd',\n",
       " 'dc2_object_run2.2i_dr2_wfd_with_addons',\n",
       " 'dc2_object_run2.2i_dr3a',\n",
       " 'dc2_object_run2.2i_dr3a_with_metacal',\n",
       " 'dc2_object_run2.2i_dr3a_with_photoz',\n",
       " 'dc2_object_run2.2i_dr6',\n",
       " 'dc2_object_run2.2i_dr6_with_addons',\n",
       " 'dc2_redmagic_run2.2i_dr6_wfd_v0.8.1_highdens',\n",
       " 'dc2_redmagic_run2.2i_dr6_wfd_v0.8.1_highlum',\n",
       " 'dc2_redmapper_run2.2i_dr6_wfd_v0.8.1',\n",
       " 'dc2_run2.2i_truth_galaxy_summary',\n",
       " 'dc2_run2.2i_truth_sn_summary',\n",
       " 'dc2_run2.2i_truth_sn_variability',\n",
       " 'dc2_run2.2i_truth_star_summary',\n",
       " 'dc2_run2.2i_truth_star_variability',\n",
       " 'dc2_truth_run1.2_static',\n",
       " 'dc2_truth_run1.2_variable_lightcurve',\n",
       " 'dc2_truth_run1.2_variable_summary',\n",
       " 'dc2_truth_run2.2i_summary_tract_partition',\n",
       " 'dc2_truth_run3.1i_agn_auxiliary_info',\n",
       " 'dc2_truth_run3.1i_agn_truth_summary',\n",
       " 'dc2_truth_run3.1i_agn_variability_truth',\n",
       " 'dc2_truth_run3.1i_lensed_agn_truth_summary',\n",
       " 'dc2_truth_run3.1i_lensed_agn_variability_truth',\n",
       " 'dc2_truth_run3.1i_lensed_host_truth_summary',\n",
       " 'dc2_truth_run3.1i_lensed_sn_variability_truth',\n",
       " 'dc2_truth_run3.1i_lensed_sne_truth_summary',\n",
       " 'protoDC2',\n",
       " 'protoDC2_run1.2',\n",
       " 'skysim5000_v1.1.1']"
      ]
     },
     "execution_count": 1,
     "metadata": {},
     "output_type": "execute_result"
    }
   ],
   "source": [
    "import sys\n",
    "import matplotlib.colors as clr\n",
    "import numpy as np\n",
    "import matplotlib.pyplot as plt\n",
    "import os\n",
    "from tqdm import tqdm\n",
    "from astropy.io import fits\n",
    "from GCRCatalogs.helpers.tract_catalogs import tract_filter, sample_filter\n",
    "from GCR import GCRQuery\n",
    "os.chdir('gcr-catalogs-master/')\n",
    "import GCRCatalogs\n",
    "print('GCRCatalogs =', GCRCatalogs.__version__, '|' ,'GCR =', GCRCatalogs.GCR.__version__)\n",
    "GCRCatalogs.get_available_catalog_names()\n",
    "plt.rcParams['xtick.direction'] = 'in'\n",
    "plt.rcParams['ytick.direction'] = 'in'\n",
    "plt.rcParams['xtick.top'] = True\n",
    "plt.rcParams['ytick.right'] = True"
   ]
  },
  {
   "cell_type": "code",
   "execution_count": 45,
   "id": "a351196a-7dc3-4378-804d-a56a9eddd5f2",
   "metadata": {},
   "outputs": [
    {
     "data": {
      "text/plain": [
       "['tract', 'tract_truth']"
      ]
     },
     "execution_count": 45,
     "metadata": {},
     "output_type": "execute_result"
    }
   ],
   "source": [
    "sorted(q for q in cat.list_all_quantities() if q.startswith('tra'))"
   ]
  },
  {
   "cell_type": "code",
   "execution_count": 141,
   "id": "3519e167-2fa0-4c1a-ac9c-07367928f0cc",
   "metadata": {},
   "outputs": [
    {
     "name": "stderr",
     "output_type": "stream",
     "text": [
      "/global/cscratch1/sd/zg64/Rubin-Roman-Redmagic/gcr-catalogs-master/GCRCatalogs/dc2_dm_catalog.py:43: RuntimeWarning: invalid value encountered in log10\n",
      "  return -2.5 * np.log10(flux) + AB_mag_zp_wrt_nanoJansky\n",
      "/global/cscratch1/sd/zg64/Rubin-Roman-Redmagic/gcr-catalogs-master/GCRCatalogs/dc2_dm_catalog.py:43: RuntimeWarning: divide by zero encountered in log10\n",
      "  return -2.5 * np.log10(flux) + AB_mag_zp_wrt_nanoJansky\n"
     ]
    }
   ],
   "source": [
    "cat = GCRCatalogs.load_catalog('dc2_object_run2.2i_dr6_with_addons')\n",
    "\n",
    "#Apply cuts\n",
    "cuts = [\n",
    "    GCRQuery('ra > 51'),\n",
    "    GCRQuery('ra < 56'),\n",
    "    GCRQuery('dec > -42'),\n",
    "    GCRQuery('dec < -38'),\n",
    "    #GCRQuery('redshift_truth > 0.25'),\n",
    "    #GCRQuery('redshift_truth < 0.27'),\n",
    "    GCRQuery('truth_type == 1'),   # select galaxy\n",
    "    GCRQuery('is_good_match == True'),\n",
    "    GCRQuery('is_nearest_neighbor == True'),\n",
    "    GCRQuery((np.isfinite, 'mag_g_cModel')), # Select objects that have g-band magnitudes\n",
    "    GCRQuery((np.isfinite, 'mag_r_cModel')), # Select objects that have r-band magnitudes\n",
    "    GCRQuery((np.isfinite, 'mag_i_cModel')), # Select objects that have i-band magnitudes\n",
    "    GCRQuery((np.isfinite, 'mag_g')), \n",
    "    GCRQuery((np.isfinite, 'mag_r')), \n",
    "    GCRQuery((np.isfinite, 'mag_i')), \n",
    "    #GCRQuery('clean'), # The source has no flagged pixels (interpolated, saturated, edge, clipped...) \n",
    "                       # and was not skipped by the deblender\n",
    "]\n",
    "\n",
    "data = cat.get_quantities(['objectId', 'id_truth','redshift_truth', 'ra', 'dec',\n",
    "                          'mag_g_cModel','mag_r_cModel','mag_i_cModel',\n",
    "                           'mag_g', 'mag_r', 'mag_i','photoz_mean','photoz_mode','tract','tract_truth'],\n",
    "                          filters=cuts,native_filters=[tract_filter([3443, 3442, 3257,3258,3444,3259,\n",
    "                                                                     3256,3634,3633,3632,3631,3077,3076,3075])])"
   ]
  },
  {
   "cell_type": "code",
   "execution_count": 143,
   "id": "9fcae719-d5e7-4570-9d9d-136f16c57b0f",
   "metadata": {},
   "outputs": [
    {
     "data": {
      "image/png": "[encoded data removed]",
      "text/plain": [
       "<Figure size 576x432 with 1 Axes>"
      ]
     },
     "metadata": {
      "needs_background": "light"
     },
     "output_type": "display_data"
    }
   ],
   "source": [
    "ms = [data['tract']==3442,data['tract']==3443,data['tract']==3444,data['tract']==3257,data['tract']==3258,\n",
    "     data['tract']==3259,data['tract']==3256,data['tract']==3631,data['tract']==3633,data['tract']==3632,\n",
    "      data['tract']==3634,data['tract']==3075,data['tract']==3076,data['tract']==3077]\n",
    "plt.figure(figsize = (8,6))\n",
    "for m in ms:\n",
    "    r = data['ra'][m]\n",
    "    d = data['dec'][m]\n",
    "    plt.scatter(r,d)\n",
    "    plt.text(np.mean(r)+0.2,np.mean(d),(str(data['tract'][m][0])),fontsize = 13)\n",
    "    plt.xlim(56.6,50.5);\n",
    "plt.xlabel('RA (degree)',fontsize = 15)\n",
    "plt.ylabel('DEC (degree)',fontsize = 15)\n",
    "plt.savefig('../plots/DC2_overlap_tract.png')"
   ]
  },
  {
   "cell_type": "code",
   "execution_count": 309,
   "id": "3f5b6004-f2e4-469c-b84e-8e8a1faa2637",
   "metadata": {},
   "outputs": [
    {
     "data": {
      "text/plain": [
       "['zspec',\n",
       " 'redshift_err',\n",
       " 'mag_i_lsst',\n",
       " 'id',\n",
       " 'mag_y_lsst',\n",
       " 'magerr_g_lsst',\n",
       " 'refmag_z_lsst',\n",
       " 'redshift',\n",
       " 'zredmagic_samp_1',\n",
       " 'mag_g_lsst',\n",
       " 'magerr_y_lsst',\n",
       " 'dec',\n",
       " 'magerr_z_lsst',\n",
       " 'chisq',\n",
       " 'magerr_i_lsst',\n",
       " 'z_lum',\n",
       " 'zredmagic_samp_2',\n",
       " 'mag_z_lsst',\n",
       " 'magerr_r_lsst',\n",
       " 'mag_r_lsst',\n",
       " 'zredmagic_samp_0',\n",
       " 'zredmagic_samp_3',\n",
       " 'ra']"
      ]
     },
     "execution_count": 309,
     "metadata": {},
     "output_type": "execute_result"
    }
   ],
   "source": [
    "dc2_redmagic_cat = GCRCatalogs.load_catalog('dc2_redmagic_run2.2i_dr6_wfd_v0.8.1_highdens')\n",
    "dc2_redmagic_cat.list_all_quantities()"
   ]
  },
  {
   "cell_type": "code",
   "execution_count": 286,
   "id": "ed4899b9-6bd2-481d-b63a-8edb2b17e400",
   "metadata": {},
   "outputs": [],
   "source": [
    "cuts = [\n",
    "    GCRQuery('ra > 51'),\n",
    "    GCRQuery('ra < 56'),\n",
    "    GCRQuery('dec > -42'),\n",
    "    GCRQuery('dec < -38'),\n",
    "]\n",
    "\n",
    "redmagic_data = dc2_redmagic_cat.get_quantities(['id', 'ra','dec', 'zspec', 'redshift','zredmagic_samp_0','zredmagic_samp_1','zredmagic_samp_2','zredmagic_samp_3'\n",
    "                          ,'mag_g_lsst','mag_r_lsst','mag_i_lsst','redshift_err'],\n",
    "                          filters=cuts)"
   ]
  },
  {
   "cell_type": "code",
   "execution_count": 287,
   "id": "2ee5051c-9eb4-4526-86d0-d9eba7044905",
   "metadata": {},
   "outputs": [
    {
     "name": "stderr",
     "output_type": "stream",
     "text": [
      "25954it [05:07, 84.32it/s]\n"
     ]
    }
   ],
   "source": [
    "idx = list()\n",
    "red_idx = list()\n",
    "for i,ids in tqdm(enumerate(redmagic_data['id'])):\n",
    "    if ids in table_id:\n",
    "        idx.append(np.where(table_id == ids)[0][0])\n",
    "        red_idx.append(i)"
   ]
  },
  {
   "cell_type": "code",
   "execution_count": null,
   "id": "582f56fc-721f-4f21-9525-682a37fd0e83",
   "metadata": {},
   "outputs": [],
   "source": [
    "table_id = np.array(data['objectId'])\n",
    "table_g = data['mag_g_cModel'][np.array(idx)]\n",
    "table_r = data['mag_r_cModel'][np.array(idx)]\n",
    "table_i = data['mag_i_cModel'][np.array(idx)]"
   ]
  },
  {
   "cell_type": "code",
   "execution_count": 369,
   "id": "51f6de2d-6e33-48bf-a373-7794f86ca7de",
   "metadata": {},
   "outputs": [
    {
     "data": {
      "text/plain": [
       "(17.195870105898294, 20.183605148645743)"
      ]
     },
     "execution_count": 369,
     "metadata": {},
     "output_type": "execute_result"
    },
    {
     "data": {
      "image/png": "[encoded data removed]",
      "text/plain": [
       "<Figure size 432x288 with 1 Axes>"
      ]
     },
     "metadata": {
      "needs_background": "light"
     },
     "output_type": "display_data"
    }
   ],
   "source": [
    "z_low = 0.26\n",
    "z_high = 0.25\n",
    "z_mask = (data['photoz_mode'][np.array(idx)] > z_high) & (data['photoz_mode'][np.array(idx)] < z_low)\n",
    "z_m =  (data['photoz_mode'] > z_high) & (data['photoz_mode'] < z_low)\n",
    "\n",
    "\n",
    "plt.scatter(data['mag_i_cModel'][z_m],data['mag_g_cModel'][z_m]-data['mag_r_cModel'][z_m])\n",
    "plt.scatter(table_i[z_mask],table_g[z_mask]-table_r[z_mask])\n",
    "plt.ylim((table_g[z_mask]-table_r[z_mask]).min()-0.5,(table_g[z_mask]-table_r[z_mask]).max()+0.5)\n",
    "plt.xlim(table_i[z_mask].min(),table_i[z_mask].max()+1)"
   ]
  },
  {
   "cell_type": "code",
   "execution_count": 377,
   "id": "c44ec519-8dbb-4a70-b99c-8ed953bffe03",
   "metadata": {},
   "outputs": [
    {
     "data": {
      "image/png": "[encoded data removed]",
      "text/plain": [
       "<Figure size 432x288 with 1 Axes>"
      ]
     },
     "metadata": {
      "needs_background": "light"
     },
     "output_type": "display_data"
    }
   ],
   "source": [
    "plt.hist(data['mag_g_cModel'][z_m]-data['mag_r_cModel'][z_m],bins = 50);\n",
    "plt.hist(table_g[z_mask]-table_r[z_mask]);"
   ]
  },
  {
   "cell_type": "code",
   "execution_count": 275,
   "id": "cadababd-b7a1-43b5-a8b2-7b4027c3d399",
   "metadata": {},
   "outputs": [
    {
     "data": {
      "text/plain": [
       "[<matplotlib.lines.Line2D at 0x1554a82654c0>]"
      ]
     },
     "execution_count": 275,
     "metadata": {},
     "output_type": "execute_result"
    },
    {
     "data": {
      "image/png": "[encoded data removed]",
      "text/plain": [
       "<Figure size 432x288 with 1 Axes>"
      ]
     },
     "metadata": {
      "needs_background": "light"
     },
     "output_type": "display_data"
    }
   ],
   "source": [
    "plt.plot(data['mag_r_cModel'][np.array(idx)],redmagic_data['mag_r_lsst'][np.array(red_idx)])"
   ]
  }
 ],
 "metadata": {
  "kernelspec": {
   "display_name": "desc-python",
   "language": "python",
   "name": "desc-python"
  },
  "language_info": {
   "codemirror_mode": {
    "name": "ipython",
    "version": 3
   },
   "file_extension": ".py",
   "mimetype": "text/x-python",
   "name": "python",
   "nbconvert_exporter": "python",
   "pygments_lexer": "ipython3",
   "version": "3.8.12"
  }
 },
 "nbformat": 4,
 "nbformat_minor": 5
}
